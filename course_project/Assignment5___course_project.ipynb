{
 "cells": [
  {
   "cell_type": "markdown",
   "metadata": {
    "colab_type": "text",
    "id": "1T-Vb8dH6_6w"
   },
   "source": [
    "## Imports and Initialization\n",
    "\n",
    "Import required modules"
   ]
  },
  {
   "cell_type": "code",
   "execution_count": null,
   "metadata": {
    "colab": {},
    "colab_type": "code",
    "id": "C6W0xIa667bZ"
   },
   "outputs": [],
   "source": [
    "import torch\n",
    "import torchvision\n",
    "import torch.nn as nn\n",
    "import torch.optim as optim\n",
    "from torch.optim.lr_scheduler import OneCycleLR, ReduceLROnPlateau\n",
    "\n",
    "from data.data_engine import DataEngine\n",
    "from config import ModelConfig\n",
    "from models.resnet import ResNet18\n",
    "from train import train\n",
    "from test import test\n",
    "from results import plot_images, plot_graph\n",
    "from utils import *\n",
    "from gradcam.visualize import VisualizeCam"
   ]
  },
  {
   "cell_type": "markdown",
   "metadata": {
    "colab_type": "text",
    "id": "PyyAvtByru8V"
   },
   "source": [
    "## Model Configuration and Set Seed\n",
    "\n",
    "View model configuration and set the seed"
   ]
  },
  {
   "cell_type": "code",
   "execution_count": null,
   "metadata": {
    "colab": {
     "base_uri": "https://localhost:8080/",
     "height": 272
    },
    "colab_type": "code",
    "id": "uC7JTse_r5Cl",
    "outputId": "5323d70c-5521-4452-9577-3c75239f7fce"
   },
   "outputs": [],
   "source": [
    "# View model config\n",
    "args = ModelConfig()\n",
    "args.print_config()\n",
    "print()\n",
    "# Set seed\n",
    "init_seed(args)"
   ]
  },
  {
   "cell_type": "markdown",
   "metadata": {
    "colab_type": "text",
    "id": "FAeSe6mS7JN7"
   },
   "source": [
    "## Data Loading and Visualization\n",
    "\n",
    "Preprocess and load the tiny-imagenet-200 dataset. Visualise the dataset."
   ]
  },
  {
   "cell_type": "code",
   "execution_count": null,
   "metadata": {
    "colab": {
     "base_uri": "https://localhost:8080/",
     "height": 150
    },
    "colab_type": "code",
    "id": "f3bSIGeD7MwS",
    "outputId": "15b61b81-f5c2-4d27-c9aa-36d08ad592e3"
   },
   "outputs": [],
   "source": [
    "data = DataEngine(args)\n",
    "data.show_samples()"
   ]
  },
  {
   "cell_type": "markdown",
   "metadata": {
    "colab_type": "text",
    "id": "LzMNSc3R9B_6"
   },
   "source": [
    "## Model\n",
    "\n",
    "Create model and display model summary"
   ]
  },
  {
   "cell_type": "code",
   "execution_count": null,
   "metadata": {
    "colab": {
     "base_uri": "https://localhost:8080/",
     "height": 1000
    },
    "colab_type": "code",
    "id": "VJiTJeku9EiF",
    "outputId": "3faa755a-a697-4ab7-84ef-fb02fcc7f85a"
   },
   "outputs": [],
   "source": [
    "device = which_device()\n",
    "model = ResNet18(num_classes=200).to(device)\n",
    "show_model_summary(model, (3,64,64))"
   ]
  },
  {
   "cell_type": "markdown",
   "metadata": {
    "colab_type": "text",
    "id": "UPu8ah4Y92gf"
   },
   "source": [
    "## Training and Testing\n",
    "\n",
    "Train the model and evaluate it"
   ]
  },
  {
   "cell_type": "code",
   "execution_count": null,
   "metadata": {
    "colab": {
     "base_uri": "https://localhost:8080/",
     "height": 1000
    },
    "colab_type": "code",
    "id": "A0M-yKLP-CF5",
    "outputId": "8b11fd02-48cc-45b2-91f2-c2e896ec27c6"
   },
   "outputs": [],
   "source": [
    "epochs = 30\n",
    "criterion = nn.CrossEntropyLoss()\n",
    "optimizer = optim.SGD(model.parameters(), lr=0.01, momentum=args.momentum)\n",
    "scheduler = OneCycleLR(optimizer, max_lr=0.02, steps_per_epoch=len(data.train_loader),\n",
    "                       epochs=epochs, div_factor=10, final_div_factor=10,\n",
    "                       pct_start=10/epochs)\n",
    "\n",
    "test_losses, train_losses, test_accs, train_accs = [], [], [], []\n",
    "misclassified_imgs, correct_imgs = [], []\n",
    "lr_trend = []\n",
    "def run(l1_decay=0.0, l2_decay=0.0):\n",
    "  for epoch in range(epochs):\n",
    "      lr_trend.append(optimizer.param_groups[0]['lr'])\n",
    "      print(f\"EPOCH: {epoch+1} (LR: {lr_trend[-1]:0.6f})\")\n",
    "      train(model, device, data.train_loader, criterion, optimizer, epoch,\n",
    "            l1_decay,l2_decay, train_losses, train_accs, scheduler)\n",
    "      test(model, device, data.test_loader, criterion, data.classes, test_losses,\n",
    "           test_accs, misclassified_imgs, correct_imgs, False)\n",
    "\n",
    "# train and test the model\n",
    "run(l1_decay=args.l1_decay, l2_decay=args.l2_decay)"
   ]
  },
  {
   "cell_type": "code",
   "execution_count": null,
   "metadata": {
    "colab": {
     "base_uri": "https://localhost:8080/",
     "height": 731
    },
    "colab_type": "code",
    "id": "yime1JYoKFQj",
    "outputId": "ae93ecfc-de20-485d-b2ce-f8a8993ee9c3"
   },
   "outputs": [],
   "source": [
    "optimizer = optim.SGD(model.parameters(), lr=0.0005, momentum=args.momentum)\n",
    "scheduler = ReduceLROnPlateau(optimizer, mode=\"min\", factor=0.5, patience=1,\n",
    "                              verbose=True, min_lr=1e-5)\n",
    "\n",
    "misclassified_imgs, correct_imgs = [], []\n",
    "epochs = 10\n",
    "def run(l1_decay=0.0, l2_decay=0.0):\n",
    "  for epoch in range(epochs):\n",
    "      lr_trend.append(optimizer.param_groups[0]['lr'])\n",
    "      print(f\"EPOCH: {epoch+1+30} (LR: {lr_trend[-1]:0.6f})\")\n",
    "      train(model, device, data.train_loader, criterion, optimizer, epoch,\n",
    "            l1_decay,l2_decay, train_losses, train_accs)\n",
    "      test(model, device, data.test_loader, criterion, data.classes, test_losses,\n",
    "           test_accs, misclassified_imgs, correct_imgs, epoch==epochs-1)\n",
    "      scheduler.step(test_losses[-1])\n",
    "\n",
    "# train and test the model\n",
    "run(l1_decay=args.l1_decay, l2_decay=args.l2_decay)"
   ]
  },
  {
   "cell_type": "markdown",
   "metadata": {
    "colab_type": "text",
    "id": "d3OVjcQ9yJjb"
   },
   "source": [
    "## Plot Learning Rate Schedule\n",
    "\n",
    "Plot the change in learning rate vs epochs"
   ]
  },
  {
   "cell_type": "code",
   "execution_count": null,
   "metadata": {
    "colab": {
     "base_uri": "https://localhost:8080/",
     "height": 295
    },
    "colab_type": "code",
    "id": "nhcYfWkYySds",
    "outputId": "f6431b8f-700f-4978-cd68-6e3632a31244"
   },
   "outputs": [],
   "source": [
    "plt_data = {\n",
    "    \"lr\": lr_trend,\n",
    "}\n",
    "plot_graph(plt_data, \"LR\")"
   ]
  },
  {
   "cell_type": "code",
   "execution_count": null,
   "metadata": {},
   "outputs": [],
   "source": [
    "torch.save(model.state_dict(),\"saved_resnet18\")"
   ]
  },
  {
   "cell_type": "markdown",
   "metadata": {
    "colab_type": "text",
    "id": "ZNKX9NyWl2Pa"
   },
   "source": [
    "## Plot Validation Loss\n",
    "\n",
    "Plot the change in validation loss vs epochs"
   ]
  },
  {
   "cell_type": "code",
   "execution_count": null,
   "metadata": {
    "colab": {
     "base_uri": "https://localhost:8080/",
     "height": 295
    },
    "colab_type": "code",
    "id": "qAln8pbZFUTp",
    "outputId": "1be26a62-4580-45d2-8433-a95686a26009"
   },
   "outputs": [],
   "source": [
    "plt_data = {\n",
    "    \"val\": test_losses,\n",
    "}\n",
    "plot_graph(plt_data, \"Loss\")"
   ]
  },
  {
   "cell_type": "markdown",
   "metadata": {
    "colab_type": "text",
    "id": "o2liIpyOl97x"
   },
   "source": [
    "## Plot Validation Accuracy\n",
    "\n",
    "Plot the change in validation accracy vs epochs"
   ]
  },
  {
   "cell_type": "code",
   "execution_count": null,
   "metadata": {
    "colab": {
     "base_uri": "https://localhost:8080/",
     "height": 295
    },
    "colab_type": "code",
    "id": "97fghqSZmA75",
    "outputId": "e5acede5-c7ae-4800-dea8-97faff652829"
   },
   "outputs": [],
   "source": [
    "plt_data = {\n",
    "    \"train\": train_accs,\n",
    "    \"val\": test_accs\n",
    "}\n",
    "plot_graph(plt_data, \"Accuracy\")"
   ]
  },
  {
   "cell_type": "markdown",
   "metadata": {
    "colab_type": "text",
    "id": "okhQ0pCy5lbB"
   },
   "source": [
    "## Visualize GradCAM\n",
    "\n",
    "Use GradCAM to understand where the network is looking at while prediction"
   ]
  },
  {
   "cell_type": "code",
   "execution_count": null,
   "metadata": {
    "colab": {},
    "colab_type": "code",
    "id": "5HWDqzGb5plN"
   },
   "outputs": [],
   "source": [
    "target_layers = [\"layer1\", \"layer2\", \"layer3\", \"layer4\"]\n",
    "viz_cam = VisualizeCam(model,data.classes, target_layers)"
   ]
  },
  {
   "cell_type": "markdown",
   "metadata": {
    "colab_type": "text",
    "id": "g605cAeU5qsW"
   },
   "source": [
    "### GradCAM for incorrectly classified images\n",
    "\n",
    "Layer wise visualization of GradCAM for misclassified images"
   ]
  }
 ],
 "metadata": {
  "accelerator": "GPU",
  "colab": {
   "authorship_tag": "ABX9TyMrw9IvrG8Ic/6QIPVDL+Cj",
   "collapsed_sections": [],
   "include_colab_link": true,
   "mount_file_id": "1lJS2Y-UPP1gtnQebozR7uJJcozihhDcd",
   "name": "EVA4-S12-A-Solution.ipynb",
   "provenance": [],
   "toc_visible": true
  },
  "kernelspec": {
   "display_name": "Python 3",
   "language": "python",
   "name": "python3"
  },
  "language_info": {
   "codemirror_mode": {
    "name": "ipython",
    "version": 3
   },
   "file_extension": ".py",
   "mimetype": "text/x-python",
   "name": "python",
   "nbconvert_exporter": "python",
   "pygments_lexer": "ipython3",
   "version": "3.9.13"
  }
 },
 "nbformat": 4,
 "nbformat_minor": 1
}
